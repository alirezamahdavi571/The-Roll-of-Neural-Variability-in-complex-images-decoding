{
  "nbformat": 4,
  "nbformat_minor": 0,
  "metadata": {
    "colab": {
      "provenance": [],
      "gpuType": "T4"
    },
    "kernelspec": {
      "name": "python3",
      "display_name": "Python 3"
    },
    "language_info": {
      "name": "python"
    },
    "accelerator": "GPU"
  },
  "cells": [
    {
      "cell_type": "markdown",
      "source": [
        "# Mount My drive"
      ],
      "metadata": {
        "id": "7NKT9vDLWGkS"
      }
    },
    {
      "cell_type": "code",
      "execution_count": 1,
      "metadata": {
        "colab": {
          "base_uri": "https://localhost:8080/"
        },
        "id": "aCdx6dvpOvb5",
        "outputId": "f7fd5239-b6e5-4345-d43e-35d22d07a2af"
      },
      "outputs": [
        {
          "output_type": "stream",
          "name": "stdout",
          "text": [
            "Drive already mounted at /content/drive; to attempt to forcibly remount, call drive.mount(\"/content/drive\", force_remount=True).\n"
          ]
        }
      ],
      "source": [
        "from google.colab import drive\n",
        "drive.mount('/content/drive')"
      ]
    },
    {
      "cell_type": "markdown",
      "source": [
        "# Libraries"
      ],
      "metadata": {
        "id": "dBslrLXoWJxo"
      }
    },
    {
      "cell_type": "code",
      "source": [
        "import matplotlib.pyplot as plt\n",
        "import numpy as np\n",
        "import matplotlib.pyplot as plt\n",
        "import seaborn as sns\n",
        "from scipy import stats\n",
        "\n",
        "# from easy_mpl import contour\n",
        "# from easy_mpl.utils import version_info\n",
        "import h5py\n",
        "import matplotlib.tri as tri\n",
        "# version_info()\n",
        "\n",
        "import os\n",
        "from PIL import Image\n",
        "from tqdm import tqdm"
      ],
      "metadata": {
        "id": "9lqIeIZNWMLz"
      },
      "execution_count": 2,
      "outputs": []
    },
    {
      "cell_type": "markdown",
      "source": [
        "# Functions"
      ],
      "metadata": {
        "id": "11HQREviWPU2"
      }
    },
    {
      "cell_type": "code",
      "source": [
        "def load_files(path , dataName):\n",
        "    with h5py.File(path, 'r') as data:\n",
        "        data_vec = data[dataName]\n",
        "        # Get the shape of the data\n",
        "        shape = data_vec.shape\n",
        "        data_vec = np.array(data_vec)\n",
        "        print(f\"The shape is: {shape}\")\n",
        "        return data_vec\n",
        "\n",
        "def load_images(image_ids, image_folder, image_extension='.png', image_mode='L', resize=None):\n",
        "    \"\"\"\n",
        "    Load images based on their identifiers.\n",
        "\n",
        "    Parameters:\n",
        "    - image_ids: list or array of image identifiers.\n",
        "    - image_folder: str, path to the folder containing images.\n",
        "    - image_extension: str, extension of the image files (e.g., '.png').\n",
        "    - image_mode: str, mode to convert images ('L' for grayscale, 'RGB' for color).\n",
        "    - resize: tuple, desired image size as (width, height). If None, no resizing is applied.\n",
        "\n",
        "    Returns:\n",
        "    - X: NumPy array of images.\n",
        "    \"\"\"\n",
        "    images = []\n",
        "    for img_id in tqdm(image_ids, desc=\"Loading images\"):\n",
        "        # Construct the filename. Adjust formatting as needed.\n",
        "        filename = f\"{int(img_id)}{image_extension}\"\n",
        "        filepath = os.path.join(image_folder, filename)\n",
        "\n",
        "        if not os.path.exists(filepath):\n",
        "            raise FileNotFoundError(f\"Image file '{filepath}' does not exist.\")\n",
        "\n",
        "        # Open and convert the image to the specified mode\n",
        "        with Image.open(filepath) as img:\n",
        "            img = img.convert(image_mode)\n",
        "            if resize is not None:\n",
        "                img = img.resize(resize)\n",
        "            img_array = np.array(img)\n",
        "            images.append(img_array)\n",
        "\n",
        "    # Convert list of images to a 4D NumPy array (num_samples, height, width, channels)\n",
        "    X = np.stack(images, axis=0)\n",
        "\n",
        "    # If grayscale, add a channel dimension\n",
        "    if image_mode == 'L':\n",
        "        X = X[..., np.newaxis]\n",
        "\n",
        "    return X\n"
      ],
      "metadata": {
        "id": "VeBHi2IFWRVM"
      },
      "execution_count": 3,
      "outputs": []
    },
    {
      "cell_type": "markdown",
      "source": [
        "# Load Dataset"
      ],
      "metadata": {
        "id": "crvFWMd2WMqT"
      }
    },
    {
      "cell_type": "code",
      "source": [
        "X_label = load_files('/content/drive/MyDrive/IT_SNN/dataset_spikes_ITC.mat' , 'x_label')\n",
        "Spike_mat = load_files('/content/drive/MyDrive/IT_SNN/dataset_spikes_ITC.mat' , 'spikes_vector_per_neuron')"
      ],
      "metadata": {
        "colab": {
          "base_uri": "https://localhost:8080/"
        },
        "id": "wR4Mo-qAWOng",
        "outputId": "3bf9bad4-ddf3-49fe-d10a-fd90c038a887"
      },
      "execution_count": 4,
      "outputs": [
        {
          "output_type": "stream",
          "name": "stdout",
          "text": [
            "The shape is: (1, 648171)\n",
            "The shape is: (900, 648171)\n"
          ]
        }
      ]
    },
    {
      "cell_type": "code",
      "source": [
        "X_label = X_label.T\n",
        "Spike_mat = Spike_mat.T"
      ],
      "metadata": {
        "id": "Ses4F6rpXkS6"
      },
      "execution_count": 5,
      "outputs": []
    },
    {
      "cell_type": "code",
      "source": [
        "import numpy as np\n",
        "import os\n",
        "from PIL import Image\n",
        "from tqdm import tqdm\n",
        "\n",
        "def load_images(image_ids, image_folder, image_extension='.png', image_mode='L', resize=None):\n",
        "    \"\"\"\n",
        "    Load images based on their identifiers.\n",
        "\n",
        "    Parameters:\n",
        "    - image_ids: list or array of image identifiers.\n",
        "    - image_folder: str, path to the folder containing images.\n",
        "    - image_extension: str, extension of the image files (e.g., '.png').\n",
        "    - image_mode: str, mode to convert images ('L' for grayscale, 'RGB' for color).\n",
        "    - resize: tuple, desired image size as (width, height). If None, no resizing is applied.\n",
        "\n",
        "    Returns:\n",
        "    - X: NumPy array of images.\n",
        "    \"\"\"\n",
        "    images = []\n",
        "    for img_id in tqdm(image_ids, desc=\"Loading images\"):\n",
        "        # Construct the filename. Adjust formatting as needed.\n",
        "        filename = f\"{int(img_id)}{image_extension}\"\n",
        "        filepath = os.path.join(image_folder, filename)\n",
        "\n",
        "        if not os.path.exists(filepath):\n",
        "            print(f\"Warning: Image file '{filepath}' does not exist. Skipping.\")\n",
        "            continue  # Skip missing images\n",
        "\n",
        "        # Open and convert the image to the specified mode\n",
        "        with Image.open(filepath) as img:\n",
        "            img = img.convert(image_mode)\n",
        "            if resize is not None:\n",
        "                img = img.resize(resize)\n",
        "            img_array = np.array(img)\n",
        "            images.append(img_array)\n",
        "\n",
        "    if not images:\n",
        "        raise ValueError(\"No images were loaded. Please check your image IDs and folder path.\")\n",
        "\n",
        "    # Convert list of images to a 4D NumPy array (num_samples, height, width, channels)\n",
        "    X = np.stack(images, axis=0)\n",
        "\n",
        "    # If grayscale, add a channel dimension\n",
        "    if image_mode == 'L':\n",
        "        X = X[..., np.newaxis]\n",
        "\n",
        "    return X\n",
        "\n",
        "def main():\n",
        "    # -----------------------------\n",
        "    # Configuration Parameters\n",
        "    # -----------------------------\n",
        "\n",
        "    # Path to the folder containing images\n",
        "    image_folder = '/content/drive/MyDrive/IT_SNN/stimuli'  # Replace with your actual image folder path\n",
        "\n",
        "    # Image file extension\n",
        "    image_extension = '.jpeg'  # Change to '.jpg' or other if needed\n",
        "\n",
        "    # Image mode: 'L' for grayscale, 'RGB' for color\n",
        "    image_mode = 'L'  # Change to 'RGB' if your images are colored\n",
        "\n",
        "    # Optional: Resize images to reduce memory usage\n",
        "    # Set to None to keep original size\n",
        "    resize = (256, 256)\n",
        "\n",
        "    # -----------------------------\n",
        "    # Dummy Data Creation\n",
        "    # -----------------------------\n",
        "    # Replace this block with your actual data loading mechanism.\n",
        "    # For example, load from a .mat file or another data source.\n",
        "    # -----------------------------------\n",
        "    # BEGIN: Dummy Data Creation\n",
        "    # -----------------------------------\n",
        "    # Example:\n",
        "    # import scipy.io\n",
        "    # mat = scipy.io.loadmat('path_to_mat_file.mat')\n",
        "    # X_label = mat['X_label'].flatten()  # Adjust key as per your .mat file\n",
        "    # Spike_mat = mat['Spike_vector']      # Adjust key as per your .mat file\n",
        "\n",
        "    # For demonstration purposes, let's create dummy variables.\n",
        "    # This block creates 150,000 samples and then selects the first 100,000.\n",
        "    # You can adjust the numbers as needed.\n",
        "    total_available_samples = 150000  # Total samples available in your dataset\n",
        "    desired_samples = 5000           # Number of samples you want to process\n",
        "\n",
        "    # -----------------------------------\n",
        "    # END: Dummy Data Creation\n",
        "    # -----------------------------------\n",
        "\n",
        "    # -----------------------------\n",
        "    # Data Limitation to 100,000 Samples\n",
        "    # -----------------------------\n",
        "    print(f\"Total available samples: {len(X_label)}\")\n",
        "    limit = desired_samples\n",
        "    if len(X_label) < limit:\n",
        "        print(f\"Data has only {len(X_label)} samples. Using all available data.\")\n",
        "        limit = len(X_label)\n",
        "        selected_indices = np.arange(limit)\n",
        "    else:\n",
        "        print(f\"Limiting dataset to the first {limit} samples.\")\n",
        "        selected_indices = np.arange(limit)\n",
        "        # Alternatively, to randomly sample:\n",
        "        # selected_indices = np.random.choice(len(X_label), limit, replace=False)\n",
        "\n",
        "    # Subset the data\n",
        "    x_label_mat = X_label[selected_indices]\n",
        "    spike_vector_mat = Spike_mat[selected_indices]\n",
        "\n",
        "    # -----------------------------\n",
        "    # Load Images\n",
        "    # -----------------------------\n",
        "    print(\"Loading images based on x_label_mat...\")\n",
        "    try:\n",
        "        X = load_images(\n",
        "            image_ids=x_label_mat,\n",
        "            image_folder=image_folder,\n",
        "            image_extension=image_extension,\n",
        "            image_mode=image_mode,\n",
        "            resize=resize\n",
        "        )\n",
        "    except FileNotFoundError as e:\n",
        "        print(e)\n",
        "        return\n",
        "    except ValueError as ve:\n",
        "        print(ve)\n",
        "        return\n",
        "    print(f\"X shape: {X.shape}\")  # Expected: (100000, 256, 256, 1) for grayscale\n",
        "\n",
        "    # -----------------------------\n",
        "    # Prepare Y\n",
        "    # -----------------------------\n",
        "    print(\"Preparing Y (spike labels)...\")\n",
        "    Y = spike_vector_mat  # Shape: (100000, 900)\n",
        "    print(f\"Y shape: {Y.shape}\")\n",
        "\n",
        "    # -----------------------------\n",
        "    # Save X and Y (Optional)\n",
        "    # -----------------------------\n",
        "    save_X = True  # Set to False if you do not wish to save\n",
        "    save_Y = True  # Set to False if you do not wish to save\n",
        "\n",
        "    if save_X:\n",
        "        try:\n",
        "            np.save('X.npy', X)\n",
        "            print(\"X has been saved as 'X.npy'.\")\n",
        "        except Exception as e:\n",
        "            print(f\"Error saving X.npy: {e}\")\n",
        "\n",
        "    if save_Y:\n",
        "        try:\n",
        "            np.save('Y.npy', Y)\n",
        "            print(\"Y has been saved as 'Y.npy'.\")\n",
        "        except Exception as e:\n",
        "            print(f\"Error saving Y.npy: {e}\")\n",
        "\n",
        "    print(\"Data preparation is complete.\")\n",
        "\n",
        "    return X,Y\n",
        "\n",
        "if __name__ == \"__main__\":\n",
        "    X,Y = main()\n"
      ],
      "metadata": {
        "colab": {
          "base_uri": "https://localhost:8080/"
        },
        "id": "fa1wRinKXd-9",
        "outputId": "390f761e-39ec-4664-b917-e3936e452bc7"
      },
      "execution_count": 6,
      "outputs": [
        {
          "output_type": "stream",
          "name": "stdout",
          "text": [
            "Total available samples: 648171\n",
            "Limiting dataset to the first 5000 samples.\n",
            "Loading images based on x_label_mat...\n"
          ]
        },
        {
          "output_type": "stream",
          "name": "stderr",
          "text": [
            "Loading images:   0%|          | 0/5000 [00:00<?, ?it/s]<ipython-input-6-fdf5d6b5082c>:23: DeprecationWarning: Conversion of an array with ndim > 0 to a scalar is deprecated, and will error in future. Ensure you extract a single element from your array before performing this operation. (Deprecated NumPy 1.25.)\n",
            "  filename = f\"{int(img_id)}{image_extension}\"\n",
            "Loading images: 100%|██████████| 5000/5000 [00:18<00:00, 275.62it/s]\n"
          ]
        },
        {
          "output_type": "stream",
          "name": "stdout",
          "text": [
            "X shape: (5000, 256, 256, 1)\n",
            "Preparing Y (spike labels)...\n",
            "Y shape: (5000, 900)\n",
            "X has been saved as 'X.npy'.\n",
            "Y has been saved as 'Y.npy'.\n",
            "Data preparation is complete.\n"
          ]
        }
      ]
    },
    {
      "cell_type": "markdown",
      "source": [
        "# Load Pretrained CorNet"
      ],
      "metadata": {
        "id": "QPT0pz5Wbgma"
      }
    },
    {
      "cell_type": "code",
      "source": [
        "!pip install git+https://github.com/dicarlolab/CORnet.git"
      ],
      "metadata": {
        "colab": {
          "base_uri": "https://localhost:8080/"
        },
        "id": "pDzsoAfabkuW",
        "outputId": "7fb90eef-6efd-4ef8-a6a8-1288d71ceece"
      },
      "execution_count": 7,
      "outputs": [
        {
          "output_type": "stream",
          "name": "stdout",
          "text": [
            "Collecting git+https://github.com/dicarlolab/CORnet.git\n",
            "  Cloning https://github.com/dicarlolab/CORnet.git to /tmp/pip-req-build-ili26ajw\n",
            "  Running command git clone --filter=blob:none --quiet https://github.com/dicarlolab/CORnet.git /tmp/pip-req-build-ili26ajw\n",
            "  Resolved https://github.com/dicarlolab/CORnet.git to commit d0cc17d4b34ad44dedb01683b70eafd15515adad\n",
            "  Preparing metadata (setup.py) ... \u001b[?25l\u001b[?25hdone\n",
            "Requirement already satisfied: torch>=0.4.0 in /usr/local/lib/python3.11/dist-packages (from CORnet==0.1.0) (2.5.1+cu121)\n",
            "Requirement already satisfied: torchvision in /usr/local/lib/python3.11/dist-packages (from CORnet==0.1.0) (0.20.1+cu121)\n",
            "Requirement already satisfied: numpy in /usr/local/lib/python3.11/dist-packages (from CORnet==0.1.0) (1.26.4)\n",
            "Requirement already satisfied: pandas in /usr/local/lib/python3.11/dist-packages (from CORnet==0.1.0) (2.2.2)\n",
            "Requirement already satisfied: tqdm in /usr/local/lib/python3.11/dist-packages (from CORnet==0.1.0) (4.67.1)\n",
            "Requirement already satisfied: fire in /usr/local/lib/python3.11/dist-packages (from CORnet==0.1.0) (0.7.0)\n",
            "Requirement already satisfied: filelock in /usr/local/lib/python3.11/dist-packages (from torch>=0.4.0->CORnet==0.1.0) (3.17.0)\n",
            "Requirement already satisfied: typing-extensions>=4.8.0 in /usr/local/lib/python3.11/dist-packages (from torch>=0.4.0->CORnet==0.1.0) (4.12.2)\n",
            "Requirement already satisfied: networkx in /usr/local/lib/python3.11/dist-packages (from torch>=0.4.0->CORnet==0.1.0) (3.4.2)\n",
            "Requirement already satisfied: jinja2 in /usr/local/lib/python3.11/dist-packages (from torch>=0.4.0->CORnet==0.1.0) (3.1.5)\n",
            "Requirement already satisfied: fsspec in /usr/local/lib/python3.11/dist-packages (from torch>=0.4.0->CORnet==0.1.0) (2024.10.0)\n",
            "Requirement already satisfied: nvidia-cuda-nvrtc-cu12==12.1.105 in /usr/local/lib/python3.11/dist-packages (from torch>=0.4.0->CORnet==0.1.0) (12.1.105)\n",
            "Requirement already satisfied: nvidia-cuda-runtime-cu12==12.1.105 in /usr/local/lib/python3.11/dist-packages (from torch>=0.4.0->CORnet==0.1.0) (12.1.105)\n",
            "Requirement already satisfied: nvidia-cuda-cupti-cu12==12.1.105 in /usr/local/lib/python3.11/dist-packages (from torch>=0.4.0->CORnet==0.1.0) (12.1.105)\n",
            "Requirement already satisfied: nvidia-cudnn-cu12==9.1.0.70 in /usr/local/lib/python3.11/dist-packages (from torch>=0.4.0->CORnet==0.1.0) (9.1.0.70)\n",
            "Requirement already satisfied: nvidia-cublas-cu12==12.1.3.1 in /usr/local/lib/python3.11/dist-packages (from torch>=0.4.0->CORnet==0.1.0) (12.1.3.1)\n",
            "Requirement already satisfied: nvidia-cufft-cu12==11.0.2.54 in /usr/local/lib/python3.11/dist-packages (from torch>=0.4.0->CORnet==0.1.0) (11.0.2.54)\n",
            "Requirement already satisfied: nvidia-curand-cu12==10.3.2.106 in /usr/local/lib/python3.11/dist-packages (from torch>=0.4.0->CORnet==0.1.0) (10.3.2.106)\n",
            "Requirement already satisfied: nvidia-cusolver-cu12==11.4.5.107 in /usr/local/lib/python3.11/dist-packages (from torch>=0.4.0->CORnet==0.1.0) (11.4.5.107)\n",
            "Requirement already satisfied: nvidia-cusparse-cu12==12.1.0.106 in /usr/local/lib/python3.11/dist-packages (from torch>=0.4.0->CORnet==0.1.0) (12.1.0.106)\n",
            "Requirement already satisfied: nvidia-nccl-cu12==2.21.5 in /usr/local/lib/python3.11/dist-packages (from torch>=0.4.0->CORnet==0.1.0) (2.21.5)\n",
            "Requirement already satisfied: nvidia-nvtx-cu12==12.1.105 in /usr/local/lib/python3.11/dist-packages (from torch>=0.4.0->CORnet==0.1.0) (12.1.105)\n",
            "Requirement already satisfied: triton==3.1.0 in /usr/local/lib/python3.11/dist-packages (from torch>=0.4.0->CORnet==0.1.0) (3.1.0)\n",
            "Requirement already satisfied: sympy==1.13.1 in /usr/local/lib/python3.11/dist-packages (from torch>=0.4.0->CORnet==0.1.0) (1.13.1)\n",
            "Requirement already satisfied: nvidia-nvjitlink-cu12 in /usr/local/lib/python3.11/dist-packages (from nvidia-cusolver-cu12==11.4.5.107->torch>=0.4.0->CORnet==0.1.0) (12.6.85)\n",
            "Requirement already satisfied: mpmath<1.4,>=1.1.0 in /usr/local/lib/python3.11/dist-packages (from sympy==1.13.1->torch>=0.4.0->CORnet==0.1.0) (1.3.0)\n",
            "Requirement already satisfied: termcolor in /usr/local/lib/python3.11/dist-packages (from fire->CORnet==0.1.0) (2.5.0)\n",
            "Requirement already satisfied: python-dateutil>=2.8.2 in /usr/local/lib/python3.11/dist-packages (from pandas->CORnet==0.1.0) (2.8.2)\n",
            "Requirement already satisfied: pytz>=2020.1 in /usr/local/lib/python3.11/dist-packages (from pandas->CORnet==0.1.0) (2024.2)\n",
            "Requirement already satisfied: tzdata>=2022.7 in /usr/local/lib/python3.11/dist-packages (from pandas->CORnet==0.1.0) (2025.1)\n",
            "Requirement already satisfied: pillow!=8.3.*,>=5.3.0 in /usr/local/lib/python3.11/dist-packages (from torchvision->CORnet==0.1.0) (11.1.0)\n",
            "Requirement already satisfied: six>=1.5 in /usr/local/lib/python3.11/dist-packages (from python-dateutil>=2.8.2->pandas->CORnet==0.1.0) (1.17.0)\n",
            "Requirement already satisfied: MarkupSafe>=2.0 in /usr/local/lib/python3.11/dist-packages (from jinja2->torch>=0.4.0->CORnet==0.1.0) (3.0.2)\n"
          ]
        }
      ]
    },
    {
      "cell_type": "code",
      "source": [
        "!pip install spikingjelly"
      ],
      "metadata": {
        "colab": {
          "base_uri": "https://localhost:8080/"
        },
        "id": "9qSaq9-ojdxg",
        "outputId": "17999509-4a9c-407b-ca9a-315f804d901d"
      },
      "execution_count": 8,
      "outputs": [
        {
          "output_type": "stream",
          "name": "stdout",
          "text": [
            "Requirement already satisfied: spikingjelly in /usr/local/lib/python3.11/dist-packages (0.0.0.0.14)\n",
            "Requirement already satisfied: torch in /usr/local/lib/python3.11/dist-packages (from spikingjelly) (2.5.1+cu121)\n",
            "Requirement already satisfied: matplotlib in /usr/local/lib/python3.11/dist-packages (from spikingjelly) (3.10.0)\n",
            "Requirement already satisfied: numpy in /usr/local/lib/python3.11/dist-packages (from spikingjelly) (1.26.4)\n",
            "Requirement already satisfied: tqdm in /usr/local/lib/python3.11/dist-packages (from spikingjelly) (4.67.1)\n",
            "Requirement already satisfied: torchvision in /usr/local/lib/python3.11/dist-packages (from spikingjelly) (0.20.1+cu121)\n",
            "Requirement already satisfied: scipy in /usr/local/lib/python3.11/dist-packages (from spikingjelly) (1.13.1)\n",
            "Requirement already satisfied: contourpy>=1.0.1 in /usr/local/lib/python3.11/dist-packages (from matplotlib->spikingjelly) (1.3.1)\n",
            "Requirement already satisfied: cycler>=0.10 in /usr/local/lib/python3.11/dist-packages (from matplotlib->spikingjelly) (0.12.1)\n",
            "Requirement already satisfied: fonttools>=4.22.0 in /usr/local/lib/python3.11/dist-packages (from matplotlib->spikingjelly) (4.55.4)\n",
            "Requirement already satisfied: kiwisolver>=1.3.1 in /usr/local/lib/python3.11/dist-packages (from matplotlib->spikingjelly) (1.4.8)\n",
            "Requirement already satisfied: packaging>=20.0 in /usr/local/lib/python3.11/dist-packages (from matplotlib->spikingjelly) (24.2)\n",
            "Requirement already satisfied: pillow>=8 in /usr/local/lib/python3.11/dist-packages (from matplotlib->spikingjelly) (11.1.0)\n",
            "Requirement already satisfied: pyparsing>=2.3.1 in /usr/local/lib/python3.11/dist-packages (from matplotlib->spikingjelly) (3.2.1)\n",
            "Requirement already satisfied: python-dateutil>=2.7 in /usr/local/lib/python3.11/dist-packages (from matplotlib->spikingjelly) (2.8.2)\n",
            "Requirement already satisfied: filelock in /usr/local/lib/python3.11/dist-packages (from torch->spikingjelly) (3.17.0)\n",
            "Requirement already satisfied: typing-extensions>=4.8.0 in /usr/local/lib/python3.11/dist-packages (from torch->spikingjelly) (4.12.2)\n",
            "Requirement already satisfied: networkx in /usr/local/lib/python3.11/dist-packages (from torch->spikingjelly) (3.4.2)\n",
            "Requirement already satisfied: jinja2 in /usr/local/lib/python3.11/dist-packages (from torch->spikingjelly) (3.1.5)\n",
            "Requirement already satisfied: fsspec in /usr/local/lib/python3.11/dist-packages (from torch->spikingjelly) (2024.10.0)\n",
            "Requirement already satisfied: nvidia-cuda-nvrtc-cu12==12.1.105 in /usr/local/lib/python3.11/dist-packages (from torch->spikingjelly) (12.1.105)\n",
            "Requirement already satisfied: nvidia-cuda-runtime-cu12==12.1.105 in /usr/local/lib/python3.11/dist-packages (from torch->spikingjelly) (12.1.105)\n",
            "Requirement already satisfied: nvidia-cuda-cupti-cu12==12.1.105 in /usr/local/lib/python3.11/dist-packages (from torch->spikingjelly) (12.1.105)\n",
            "Requirement already satisfied: nvidia-cudnn-cu12==9.1.0.70 in /usr/local/lib/python3.11/dist-packages (from torch->spikingjelly) (9.1.0.70)\n",
            "Requirement already satisfied: nvidia-cublas-cu12==12.1.3.1 in /usr/local/lib/python3.11/dist-packages (from torch->spikingjelly) (12.1.3.1)\n",
            "Requirement already satisfied: nvidia-cufft-cu12==11.0.2.54 in /usr/local/lib/python3.11/dist-packages (from torch->spikingjelly) (11.0.2.54)\n",
            "Requirement already satisfied: nvidia-curand-cu12==10.3.2.106 in /usr/local/lib/python3.11/dist-packages (from torch->spikingjelly) (10.3.2.106)\n",
            "Requirement already satisfied: nvidia-cusolver-cu12==11.4.5.107 in /usr/local/lib/python3.11/dist-packages (from torch->spikingjelly) (11.4.5.107)\n",
            "Requirement already satisfied: nvidia-cusparse-cu12==12.1.0.106 in /usr/local/lib/python3.11/dist-packages (from torch->spikingjelly) (12.1.0.106)\n",
            "Requirement already satisfied: nvidia-nccl-cu12==2.21.5 in /usr/local/lib/python3.11/dist-packages (from torch->spikingjelly) (2.21.5)\n",
            "Requirement already satisfied: nvidia-nvtx-cu12==12.1.105 in /usr/local/lib/python3.11/dist-packages (from torch->spikingjelly) (12.1.105)\n",
            "Requirement already satisfied: triton==3.1.0 in /usr/local/lib/python3.11/dist-packages (from torch->spikingjelly) (3.1.0)\n",
            "Requirement already satisfied: sympy==1.13.1 in /usr/local/lib/python3.11/dist-packages (from torch->spikingjelly) (1.13.1)\n",
            "Requirement already satisfied: nvidia-nvjitlink-cu12 in /usr/local/lib/python3.11/dist-packages (from nvidia-cusolver-cu12==11.4.5.107->torch->spikingjelly) (12.6.85)\n",
            "Requirement already satisfied: mpmath<1.4,>=1.1.0 in /usr/local/lib/python3.11/dist-packages (from sympy==1.13.1->torch->spikingjelly) (1.3.0)\n",
            "Requirement already satisfied: six>=1.5 in /usr/local/lib/python3.11/dist-packages (from python-dateutil>=2.7->matplotlib->spikingjelly) (1.17.0)\n",
            "Requirement already satisfied: MarkupSafe>=2.0 in /usr/local/lib/python3.11/dist-packages (from jinja2->torch->spikingjelly) (3.0.2)\n"
          ]
        }
      ]
    },
    {
      "cell_type": "markdown",
      "source": [
        "# Import Necessary Libraries and Functions"
      ],
      "metadata": {
        "id": "NAUM7NMMYiLy"
      }
    },
    {
      "cell_type": "code",
      "source": [
        "# -----------------------------\n",
        "# 1. Import Necessary Libraries\n",
        "# -----------------------------\n",
        "import torch\n",
        "import torch.nn as nn\n",
        "import torch.optim as optim\n",
        "from torch.utils.data import Dataset, DataLoader, random_split\n",
        "from spikingjelly.clock_driven import neuron\n",
        "import numpy as np\n",
        "import matplotlib.pyplot as plt\n",
        "from tqdm import tqdm\n",
        "from cornet import cornet_s  # Ensure cornet_s is correctly installed and imported\n",
        "import os\n",
        "import random\n",
        "from PIL import Image\n",
        "\n",
        "# -----------------------------\n",
        "# 2. Define the SpikeDataset Class\n",
        "# -----------------------------\n",
        "class SpikeDataset(Dataset):\n",
        "    def __init__(self, images, labels, transform=None):\n",
        "        \"\"\"\n",
        "        Args:\n",
        "            images (numpy.ndarray): Array of images with shape (num_samples, height, width, channels)\n",
        "            labels (numpy.ndarray): Array of labels with shape (num_samples, 900)\n",
        "            transform (callable, optional): Optional transform to be applied on a sample.\n",
        "        \"\"\"\n",
        "        self.images = torch.tensor(images, dtype=torch.float32)  # Shape: [num_samples, H, W, C]\n",
        "        self.labels = torch.tensor(labels, dtype=torch.float32)  # Shape: [num_samples, 900]\n",
        "        self.transform = transform\n",
        "\n",
        "    def __len__(self):\n",
        "        return self.images.shape[0]\n",
        "\n",
        "    def __getitem__(self, idx):\n",
        "        image = self.images[idx]\n",
        "        label = self.labels[idx]\n",
        "\n",
        "        if self.transform:\n",
        "            image = self.transform(image)\n",
        "\n",
        "        # Permute to [C, H, W]\n",
        "        image = image.permute(2, 0, 1)\n",
        "\n",
        "        return image, label\n",
        "\n",
        "# -----------------------------\n",
        "# 3. Define the CorNetSNN Model\n",
        "# -----------------------------\n",
        "class CorNetSNN(nn.Module):\n",
        "    def __init__(self, pretrained_cornet=None):\n",
        "        super(CorNetSNN, self).__init__()\n",
        "\n",
        "        # V1, V2, V4 Modules (Pre-trained)\n",
        "        if pretrained_cornet:\n",
        "            self.v1 = pretrained_cornet.module.V1\n",
        "            self.v2 = pretrained_cornet.module.V2\n",
        "            self.v4 = pretrained_cornet.module.V4\n",
        "        else:\n",
        "            # Example V1 Module (Replace with actual CorNet pre-trained module)\n",
        "            self.v1 = nn.Sequential(\n",
        "                nn.Conv2d(in_channels=3, out_channels=64, kernel_size=7, stride=2, padding=3),\n",
        "                nn.BatchNorm2d(64),\n",
        "                nn.ReLU(),\n",
        "                nn.MaxPool2d(kernel_size=3, stride=2, padding=1)\n",
        "            )\n",
        "            # Example V2 Module\n",
        "            self.v2 = nn.Sequential(\n",
        "                nn.Conv2d(64, 128, kernel_size=5, stride=2, padding=2),\n",
        "                nn.BatchNorm2d(128),\n",
        "                nn.ReLU(),\n",
        "                nn.MaxPool2d(kernel_size=3, stride=2, padding=1)\n",
        "            )\n",
        "            # Example V4 Module\n",
        "            self.v4 = nn.Sequential(\n",
        "                nn.Conv2d(128, 256, kernel_size=3, stride=1, padding=1),\n",
        "                nn.BatchNorm2d(256),\n",
        "                nn.ReLU(),\n",
        "                nn.MaxPool2d(kernel_size=3, stride=2, padding=1)\n",
        "            )\n",
        "\n",
        "        # Freeze V1, V2, V4 modules\n",
        "        for param in self.v1.parameters():\n",
        "            param.requires_grad = False\n",
        "        for param in self.v2.parameters():\n",
        "            param.requires_grad = False\n",
        "        for param in self.v4.parameters():\n",
        "            param.requires_grad = False\n",
        "\n",
        "        # Fully Connected Layer Before IT Module to map to 900 features\n",
        "        self.fc_pre_it = nn.Linear(256 * 16 * 16, 900)  # Adjust based on V4 output dimensions\n",
        "\n",
        "        # IT Module - SNN Layer with correct parameters\n",
        "        self.it = neuron.LIFNode(tau=2.0, v_threshold=1.0, v_reset=0.0)\n",
        "\n",
        "    def forward(self, x):\n",
        "        # V1\n",
        "        x = self.v1(x)\n",
        "\n",
        "        # V2\n",
        "        x = self.v2(x)\n",
        "\n",
        "        # V4\n",
        "        x = self.v4(x)\n",
        "\n",
        "        # Flatten\n",
        "        x = x.reshape(x.size(0), -1)  # Shape: [batch, 256*16*16]\n",
        "\n",
        "        # Fully Connected Layer Before IT Module\n",
        "        x = self.fc_pre_it(x)  # Shape: [batch, 900]\n",
        "\n",
        "        # IT Module\n",
        "        spikes = self.it(x)  # Shape: [batch, 900]\n",
        "\n",
        "        return spikes\n",
        "\n",
        "# -----------------------------\n",
        "# 4. Define Utility Functions\n",
        "# -----------------------------\n",
        "def load_and_preprocess_image(image_folder, resize=(256, 256), image_mode='RGB'):\n",
        "    \"\"\"\n",
        "    Loads a random image from the specified folder, preprocesses it, and returns a tensor.\n",
        "\n",
        "    Args:\n",
        "        image_folder (str): Path to the folder containing images.\n",
        "        resize (tuple): Desired image size.\n",
        "        image_mode (str): Image mode ('RGB' or 'L').\n",
        "\n",
        "    Returns:\n",
        "        torch.Tensor: Preprocessed image tensor of shape [1, C, H, W].\n",
        "        str: Name of the selected image.\n",
        "    \"\"\"\n",
        "    # List all image files in the folder\n",
        "    image_files = [f for f in os.listdir(image_folder) if f.lower().endswith(('.png', '.jpg', '.jpeg', '.bmp', '.gif'))]\n",
        "\n",
        "    if not image_files:\n",
        "        raise ValueError(f\"No images found in the folder: {image_folder}\")\n",
        "\n",
        "    # Select a random image\n",
        "    selected_image = random.choice(image_files)\n",
        "    image_path = os.path.join(image_folder, selected_image)\n",
        "\n",
        "    # Open and preprocess the image\n",
        "    with Image.open(image_path) as img:\n",
        "        img = img.convert(image_mode)\n",
        "        img = img.resize(resize)\n",
        "        img_array = np.array(img)\n",
        "\n",
        "    # If grayscale, repeat channels to make it RGB\n",
        "    if img_array.ndim == 2:\n",
        "        img_array = np.expand_dims(img_array, axis=-1)\n",
        "\n",
        "    if img_array.shape[-1] == 1 and image_mode == 'RGB':\n",
        "        img_array = np.repeat(img_array, 3, axis=-1)\n",
        "\n",
        "    # Normalize the image\n",
        "    img_array = img_array / 255.0  # Adjust based on your preprocessing\n",
        "\n",
        "    # Add batch dimension\n",
        "    img_array = np.expand_dims(img_array, axis=0)\n",
        "\n",
        "    # Convert to tensor and permute to match model's input\n",
        "    image_tensor = torch.tensor(img_array, dtype=torch.float32).permute(0, 3, 1, 2).to(device)\n",
        "\n",
        "    return image_tensor, selected_image\n",
        "\n",
        "def plot_spiking_activity(model, image_folder):\n",
        "    \"\"\"\n",
        "    Passes a random image through the model and plots the spiking vector at the output.\n",
        "\n",
        "    Args:\n",
        "        model (nn.Module): Trained SNN model.\n",
        "        image_folder (str): Path to the folder containing stimuli images.\n",
        "    \"\"\"\n",
        "    # Load and preprocess a random image\n",
        "    image_tensor, image_name = load_and_preprocess_image(image_folder)\n",
        "\n",
        "    # Ensure the model is in evaluation mode\n",
        "    model.eval()\n",
        "\n",
        "    with torch.no_grad():\n",
        "        # Reset neuron states before forward pass\n",
        "        model.it.reset()\n",
        "\n",
        "        # Forward pass\n",
        "        spikes = model(image_tensor)\n",
        "\n",
        "    # Check if spikes were captured\n",
        "    if spikes is not None:\n",
        "        print(f\"Spikes captured for image '{image_name}':\")\n",
        "        print(spikes)\n",
        "    else:\n",
        "        print(\"No spikes were captured.\")\n",
        "        return\n",
        "\n",
        "    # Plot the spiking vector\n",
        "    spikes = spikes.cpu().numpy()[0]  # Assuming batch size of 1\n",
        "    plt.figure(figsize=(15, 5))\n",
        "    plt.bar(range(len(spikes)), spikes, color='blue')\n",
        "    plt.xlabel('Output Neuron Index')\n",
        "    plt.ylabel('Spike')\n",
        "    plt.title(f'Spiking Vector for Image: {image_name}')\n",
        "    plt.show()\n"
      ],
      "metadata": {
        "id": "RXi1i5o6T1I_"
      },
      "execution_count": 9,
      "outputs": []
    },
    {
      "cell_type": "markdown",
      "source": [
        "# Data Preparation"
      ],
      "metadata": {
        "id": "IxG9e70XYdzN"
      }
    },
    {
      "cell_type": "code",
      "source": [
        "# -----------------------------\n",
        "# 5. Data Preparation\n",
        "# -----------------------------\n",
        "# Replace the following dummy data with your actual data loading\n",
        "# ----------------------------------------\n",
        "# Uncomment and replace with actual data loading\n",
        "# X = np.load('path_to_X.npy')  # Shape: [1000, 256, 256, 3]\n",
        "# Y = np.load('path_to_Y.npy')  # Shape: [1000, 900]\n",
        "# ----------------------------------------\n",
        "\n",
        "if X.shape[-1] == 1:\n",
        "    print(\"Converting single-channel images to three channels by repeating.\")\n",
        "    X = np.repeat(X, 3, axis=-1)\n",
        "    print(f\"New shape of X: {X.shape}\")  # Expected: (700, 256, 256, 3)\n",
        "elif X.shape[-1] != 3:\n",
        "    raise ValueError(f\"Unexpected number of channels: {X.shape[-1]}. Expected 1 or 3 channels.\")\n",
        "else:\n",
        "    print(\"X already has 3 channels.\")\n",
        "\n",
        "# Initialize Dataset\n",
        "dataset = SpikeDataset(X, Y)\n",
        "\n",
        "# Split into training, validation, and test sets\n",
        "# Adjusted to ensure train_size is a multiple of batch_size=64\n",
        "train_size = 640  # 64 * 10\n",
        "val_size = 30     # Reduced to 30\n",
        "test_size = len(dataset) - train_size - val_size  # 700 - 640 - 30 = 30\n",
        "train_dataset, val_dataset, test_dataset = random_split(dataset, [train_size, val_size, test_size])\n",
        "print(f\"Dataset split into {len(train_dataset)} training, {len(val_dataset)} validation, and {len(test_dataset)} testing samples.\")\n",
        "\n",
        "# Create DataLoaders with drop_last=True to ensure consistent batch sizes\n",
        "batch_size = 64\n",
        "train_loader = DataLoader(train_dataset, batch_size=batch_size, shuffle=True, num_workers=2, drop_last=True)\n",
        "val_loader = DataLoader(val_dataset, batch_size=batch_size, shuffle=False, num_workers=2, drop_last=True)\n",
        "test_loader = DataLoader(test_dataset, batch_size=batch_size, shuffle=False, num_workers=2, drop_last=True)\n",
        "print(\"DataLoaders created with consistent batch sizes.\")\n"
      ],
      "metadata": {
        "colab": {
          "base_uri": "https://localhost:8080/"
        },
        "id": "cagfEgN2VrM5",
        "outputId": "cfb19ac4-2208-4f04-b284-333f6a5bf53f"
      },
      "execution_count": 10,
      "outputs": [
        {
          "output_type": "stream",
          "name": "stdout",
          "text": [
            "Converting single-channel images to three channels by repeating.\n",
            "New shape of X: (5000, 256, 256, 3)\n",
            "Dataset split into 640 training, 30 validation, and 4330 testing samples.\n",
            "DataLoaders created with consistent batch sizes.\n"
          ]
        }
      ]
    },
    {
      "cell_type": "markdown",
      "source": [
        "# Initialize the Model, Loss Function, Optimizer, and Scheduler"
      ],
      "metadata": {
        "id": "hYvmogUMYbXk"
      }
    },
    {
      "cell_type": "code",
      "source": [
        "# -----------------------------\n",
        "# 6. Initialize the Model, Loss Function, Optimizer, and Scheduler\n",
        "# -----------------------------\n",
        "# Device configuration\n",
        "device = torch.device(\"cuda\" if torch.cuda.is_available() else \"cpu\")\n",
        "print(f\"Using device: {device}\")\n",
        "\n",
        "# Load pretrained CorNet-S\n",
        "cornet = cornet_s(pretrained=True).to(device)\n",
        "\n",
        "# Initialize the model\n",
        "model = CorNetSNN(pretrained_cornet=cornet).to(device)\n",
        "\n",
        "# Verify Model's First Layer\n",
        "print(\"Model's first Conv2d layer:\", model.v1[0])\n",
        "\n",
        "# Define Loss and Optimizer\n",
        "criterion = nn.BCELoss()\n",
        "optimizer = optim.Adam(model.parameters(), lr=1e-4)\n",
        "print(\"Loss function and optimizer initialized.\")\n",
        "\n",
        "# Optional: Initialize a learning rate scheduler\n",
        "scheduler = optim.lr_scheduler.StepLR(optimizer, step_size=10, gamma=0.1)\n"
      ],
      "metadata": {
        "colab": {
          "base_uri": "https://localhost:8080/"
        },
        "id": "RD9-6XSMVz6U",
        "outputId": "c274f296-f4ca-4675-c0e2-5ba18ee50199"
      },
      "execution_count": 11,
      "outputs": [
        {
          "output_type": "stream",
          "name": "stdout",
          "text": [
            "Using device: cuda\n"
          ]
        },
        {
          "output_type": "stream",
          "name": "stderr",
          "text": [
            "Downloading: \"https://s3.amazonaws.com/cornet-models/cornet_s-1d3f7974.pth\" to /root/.cache/torch/hub/checkpoints/cornet_s-1d3f7974.pth\n",
            "100%|██████████| 408M/408M [00:15<00:00, 27.1MB/s]\n"
          ]
        },
        {
          "output_type": "stream",
          "name": "stdout",
          "text": [
            "Model's first Conv2d layer: Conv2d(3, 64, kernel_size=(7, 7), stride=(2, 2), padding=(3, 3), bias=False)\n",
            "Loss function and optimizer initialized.\n"
          ]
        }
      ]
    },
    {
      "cell_type": "markdown",
      "source": [
        "# Training Loop"
      ],
      "metadata": {
        "id": "sdnAjJ5FYY4b"
      }
    },
    {
      "cell_type": "code",
      "source": [
        "# -----------------------------\n",
        "# 7. Training Loop\n",
        "# -----------------------------\n",
        "# Tracking loss values\n",
        "train_losses = []\n",
        "val_losses = []\n",
        "test_losses = []\n",
        "\n",
        "# Number of epochs\n",
        "num_epochs = 20\n",
        "\n",
        "for epoch in range(num_epochs):\n",
        "    print(f\"\\n--- Epoch {epoch+1}/{num_epochs} ---\")\n",
        "\n",
        "    # Training Phase\n",
        "    model.train()\n",
        "    running_train_loss = 0.0\n",
        "    for images, labels in tqdm(train_loader, desc=\"Training\"):\n",
        "        images = images.to(device)  # Already [batch, C, H, W]\n",
        "        labels = labels.to(device)\n",
        "\n",
        "        optimizer.zero_grad()\n",
        "\n",
        "        # Reset neuron states before forward pass\n",
        "        model.it.reset()\n",
        "\n",
        "        # Forward pass\n",
        "        spikes = model(images)  # Shape: [batch, 900]\n",
        "\n",
        "        # Compute loss\n",
        "        loss = criterion(spikes, labels)\n",
        "\n",
        "        # Backward pass\n",
        "        loss.backward()\n",
        "\n",
        "        # Optional: Gradient clipping\n",
        "        torch.nn.utils.clip_grad_norm_(model.parameters(), max_norm=1.0)\n",
        "\n",
        "        # Update weights\n",
        "        optimizer.step()\n",
        "\n",
        "        running_train_loss += loss.item() * images.size(0)\n",
        "\n",
        "    epoch_train_loss = running_train_loss / train_size\n",
        "    train_losses.append(epoch_train_loss)\n",
        "    print(f\"Epoch {epoch+1}, Training Loss: {epoch_train_loss:.4f}\")\n",
        "\n",
        "    # Validation Phase\n",
        "    model.eval()\n",
        "    running_val_loss = 0.0\n",
        "    with torch.no_grad():\n",
        "        for images, labels in tqdm(val_loader, desc=\"Validation\"):\n",
        "            images = images.to(device)\n",
        "            labels = labels.to(device)\n",
        "\n",
        "            # Reset neuron states before forward pass\n",
        "            model.it.reset()\n",
        "\n",
        "            # Forward pass\n",
        "            spikes = model(images)\n",
        "\n",
        "            # Compute loss\n",
        "            loss = criterion(spikes, labels)\n",
        "\n",
        "            running_val_loss += loss.item() * images.size(0)\n",
        "\n",
        "    epoch_val_loss = running_val_loss / val_size\n",
        "    val_losses.append(epoch_val_loss)\n",
        "    print(f\"Epoch {epoch+1}, Validation Loss: {epoch_val_loss:.4f}\")\n",
        "\n",
        "    # Test Phase\n",
        "    model.eval()\n",
        "    running_test_loss = 0.0\n",
        "    with torch.no_grad():\n",
        "        for images, labels in tqdm(test_loader, desc=\"Testing\"):\n",
        "            images = images.to(device)\n",
        "            labels = labels.to(device)\n",
        "\n",
        "            # Reset neuron states before forward pass\n",
        "            model.it.reset()\n",
        "\n",
        "            # Forward pass\n",
        "            spikes = model(images)\n",
        "\n",
        "            # Compute loss\n",
        "            loss = criterion(spikes, labels)\n",
        "\n",
        "            running_test_loss += loss.item() * images.size(0)\n",
        "\n",
        "    epoch_test_loss = running_test_loss / test_size\n",
        "    test_losses.append(epoch_test_loss)\n",
        "    print(f\"Epoch {epoch+1}, Test Loss: {epoch_test_loss:.4f}\")\n",
        "\n",
        "    # Step the scheduler\n",
        "    scheduler.step()\n"
      ],
      "metadata": {
        "colab": {
          "base_uri": "https://localhost:8080/"
        },
        "id": "zpXW3BqNWCbo",
        "outputId": "fd80af0e-ba7c-4ef5-d5ea-01b98ce29edc"
      },
      "execution_count": 12,
      "outputs": [
        {
          "output_type": "stream",
          "name": "stdout",
          "text": [
            "\n",
            "--- Epoch 1/20 ---\n"
          ]
        },
        {
          "output_type": "stream",
          "name": "stderr",
          "text": [
            "Training: 100%|██████████| 10/10 [00:05<00:00,  1.72it/s]\n"
          ]
        },
        {
          "output_type": "stream",
          "name": "stdout",
          "text": [
            "Epoch 1, Training Loss: 25.3866\n"
          ]
        },
        {
          "output_type": "stream",
          "name": "stderr",
          "text": [
            "Validation: 0it [00:00, ?it/s]\n"
          ]
        },
        {
          "output_type": "stream",
          "name": "stdout",
          "text": [
            "Epoch 1, Validation Loss: 0.0000\n"
          ]
        },
        {
          "output_type": "stream",
          "name": "stderr",
          "text": [
            "Testing: 100%|██████████| 67/67 [00:21<00:00,  3.13it/s]\n"
          ]
        },
        {
          "output_type": "stream",
          "name": "stdout",
          "text": [
            "Epoch 1, Test Loss: 14.1532\n",
            "\n",
            "--- Epoch 2/20 ---\n"
          ]
        },
        {
          "output_type": "stream",
          "name": "stderr",
          "text": [
            "Training: 100%|██████████| 10/10 [00:04<00:00,  2.44it/s]\n"
          ]
        },
        {
          "output_type": "stream",
          "name": "stdout",
          "text": [
            "Epoch 2, Training Loss: 14.0036\n"
          ]
        },
        {
          "output_type": "stream",
          "name": "stderr",
          "text": [
            "Validation: 0it [00:00, ?it/s]\n"
          ]
        },
        {
          "output_type": "stream",
          "name": "stdout",
          "text": [
            "Epoch 2, Validation Loss: 0.0000\n"
          ]
        },
        {
          "output_type": "stream",
          "name": "stderr",
          "text": [
            "Testing: 100%|██████████| 67/67 [00:21<00:00,  3.09it/s]\n"
          ]
        },
        {
          "output_type": "stream",
          "name": "stdout",
          "text": [
            "Epoch 2, Test Loss: 13.0965\n",
            "\n",
            "--- Epoch 3/20 ---\n"
          ]
        },
        {
          "output_type": "stream",
          "name": "stderr",
          "text": [
            "Training: 100%|██████████| 10/10 [00:03<00:00,  2.55it/s]\n"
          ]
        },
        {
          "output_type": "stream",
          "name": "stdout",
          "text": [
            "Epoch 3, Training Loss: 13.2361\n"
          ]
        },
        {
          "output_type": "stream",
          "name": "stderr",
          "text": [
            "Validation: 0it [00:00, ?it/s]\n"
          ]
        },
        {
          "output_type": "stream",
          "name": "stdout",
          "text": [
            "Epoch 3, Validation Loss: 0.0000\n"
          ]
        },
        {
          "output_type": "stream",
          "name": "stderr",
          "text": [
            "Testing: 100%|██████████| 67/67 [00:22<00:00,  2.96it/s]\n"
          ]
        },
        {
          "output_type": "stream",
          "name": "stdout",
          "text": [
            "Epoch 3, Test Loss: 13.5935\n",
            "\n",
            "--- Epoch 4/20 ---\n"
          ]
        },
        {
          "output_type": "stream",
          "name": "stderr",
          "text": [
            "Training: 100%|██████████| 10/10 [00:03<00:00,  2.56it/s]\n"
          ]
        },
        {
          "output_type": "stream",
          "name": "stdout",
          "text": [
            "Epoch 4, Training Loss: 12.9434\n"
          ]
        },
        {
          "output_type": "stream",
          "name": "stderr",
          "text": [
            "Validation: 0it [00:00, ?it/s]\n"
          ]
        },
        {
          "output_type": "stream",
          "name": "stdout",
          "text": [
            "Epoch 4, Validation Loss: 0.0000\n"
          ]
        },
        {
          "output_type": "stream",
          "name": "stderr",
          "text": [
            "Testing: 100%|██████████| 67/67 [00:22<00:00,  2.94it/s]\n"
          ]
        },
        {
          "output_type": "stream",
          "name": "stdout",
          "text": [
            "Epoch 4, Test Loss: 13.8609\n",
            "\n",
            "--- Epoch 5/20 ---\n"
          ]
        },
        {
          "output_type": "stream",
          "name": "stderr",
          "text": [
            "Training: 100%|██████████| 10/10 [00:04<00:00,  2.49it/s]\n"
          ]
        },
        {
          "output_type": "stream",
          "name": "stdout",
          "text": [
            "Epoch 5, Training Loss: 12.9017\n"
          ]
        },
        {
          "output_type": "stream",
          "name": "stderr",
          "text": [
            "Validation: 0it [00:00, ?it/s]\n"
          ]
        },
        {
          "output_type": "stream",
          "name": "stdout",
          "text": [
            "Epoch 5, Validation Loss: 0.0000\n"
          ]
        },
        {
          "output_type": "stream",
          "name": "stderr",
          "text": [
            "Testing: 100%|██████████| 67/67 [00:22<00:00,  2.93it/s]\n"
          ]
        },
        {
          "output_type": "stream",
          "name": "stdout",
          "text": [
            "Epoch 5, Test Loss: 13.9834\n",
            "\n",
            "--- Epoch 6/20 ---\n"
          ]
        },
        {
          "output_type": "stream",
          "name": "stderr",
          "text": [
            "Training: 100%|██████████| 10/10 [00:04<00:00,  2.31it/s]\n"
          ]
        },
        {
          "output_type": "stream",
          "name": "stdout",
          "text": [
            "Epoch 6, Training Loss: 12.9073\n"
          ]
        },
        {
          "output_type": "stream",
          "name": "stderr",
          "text": [
            "Validation: 0it [00:00, ?it/s]\n"
          ]
        },
        {
          "output_type": "stream",
          "name": "stdout",
          "text": [
            "Epoch 6, Validation Loss: 0.0000\n"
          ]
        },
        {
          "output_type": "stream",
          "name": "stderr",
          "text": [
            "Testing: 100%|██████████| 67/67 [00:23<00:00,  2.87it/s]\n"
          ]
        },
        {
          "output_type": "stream",
          "name": "stdout",
          "text": [
            "Epoch 6, Test Loss: 14.0157\n",
            "\n",
            "--- Epoch 7/20 ---\n"
          ]
        },
        {
          "output_type": "stream",
          "name": "stderr",
          "text": [
            "Training: 100%|██████████| 10/10 [00:04<00:00,  2.44it/s]\n"
          ]
        },
        {
          "output_type": "stream",
          "name": "stdout",
          "text": [
            "Epoch 7, Training Loss: 12.8530\n"
          ]
        },
        {
          "output_type": "stream",
          "name": "stderr",
          "text": [
            "Validation: 0it [00:00, ?it/s]\n"
          ]
        },
        {
          "output_type": "stream",
          "name": "stdout",
          "text": [
            "Epoch 7, Validation Loss: 0.0000\n"
          ]
        },
        {
          "output_type": "stream",
          "name": "stderr",
          "text": [
            "Testing: 100%|██████████| 67/67 [00:23<00:00,  2.87it/s]\n"
          ]
        },
        {
          "output_type": "stream",
          "name": "stdout",
          "text": [
            "Epoch 7, Test Loss: 13.7103\n",
            "\n",
            "--- Epoch 8/20 ---\n"
          ]
        },
        {
          "output_type": "stream",
          "name": "stderr",
          "text": [
            "Training: 100%|██████████| 10/10 [00:04<00:00,  2.46it/s]\n"
          ]
        },
        {
          "output_type": "stream",
          "name": "stdout",
          "text": [
            "Epoch 8, Training Loss: 12.7583\n"
          ]
        },
        {
          "output_type": "stream",
          "name": "stderr",
          "text": [
            "Validation: 0it [00:00, ?it/s]\n"
          ]
        },
        {
          "output_type": "stream",
          "name": "stdout",
          "text": [
            "Epoch 8, Validation Loss: 0.0000\n"
          ]
        },
        {
          "output_type": "stream",
          "name": "stderr",
          "text": [
            "Testing: 100%|██████████| 67/67 [00:23<00:00,  2.86it/s]\n"
          ]
        },
        {
          "output_type": "stream",
          "name": "stdout",
          "text": [
            "Epoch 8, Test Loss: 13.8860\n",
            "\n",
            "--- Epoch 9/20 ---\n"
          ]
        },
        {
          "output_type": "stream",
          "name": "stderr",
          "text": [
            "Training: 100%|██████████| 10/10 [00:04<00:00,  2.48it/s]\n"
          ]
        },
        {
          "output_type": "stream",
          "name": "stdout",
          "text": [
            "Epoch 9, Training Loss: 12.7667\n"
          ]
        },
        {
          "output_type": "stream",
          "name": "stderr",
          "text": [
            "Validation: 0it [00:00, ?it/s]\n"
          ]
        },
        {
          "output_type": "stream",
          "name": "stdout",
          "text": [
            "Epoch 9, Validation Loss: 0.0000\n"
          ]
        },
        {
          "output_type": "stream",
          "name": "stderr",
          "text": [
            "Testing: 100%|██████████| 67/67 [00:23<00:00,  2.91it/s]\n"
          ]
        },
        {
          "output_type": "stream",
          "name": "stdout",
          "text": [
            "Epoch 9, Test Loss: 13.8480\n",
            "\n",
            "--- Epoch 10/20 ---\n"
          ]
        },
        {
          "output_type": "stream",
          "name": "stderr",
          "text": [
            "Training: 100%|██████████| 10/10 [00:04<00:00,  2.41it/s]\n"
          ]
        },
        {
          "output_type": "stream",
          "name": "stdout",
          "text": [
            "Epoch 10, Training Loss: 12.6957\n"
          ]
        },
        {
          "output_type": "stream",
          "name": "stderr",
          "text": [
            "Validation: 0it [00:00, ?it/s]\n"
          ]
        },
        {
          "output_type": "stream",
          "name": "stdout",
          "text": [
            "Epoch 10, Validation Loss: 0.0000\n"
          ]
        },
        {
          "output_type": "stream",
          "name": "stderr",
          "text": [
            "Testing: 100%|██████████| 67/67 [00:23<00:00,  2.89it/s]\n"
          ]
        },
        {
          "output_type": "stream",
          "name": "stdout",
          "text": [
            "Epoch 10, Test Loss: 13.9787\n",
            "\n",
            "--- Epoch 11/20 ---\n"
          ]
        },
        {
          "output_type": "stream",
          "name": "stderr",
          "text": [
            "Training: 100%|██████████| 10/10 [00:04<00:00,  2.36it/s]\n"
          ]
        },
        {
          "output_type": "stream",
          "name": "stdout",
          "text": [
            "Epoch 11, Training Loss: 12.4207\n"
          ]
        },
        {
          "output_type": "stream",
          "name": "stderr",
          "text": [
            "Validation: 0it [00:00, ?it/s]\n"
          ]
        },
        {
          "output_type": "stream",
          "name": "stdout",
          "text": [
            "Epoch 11, Validation Loss: 0.0000\n"
          ]
        },
        {
          "output_type": "stream",
          "name": "stderr",
          "text": [
            "Testing: 100%|██████████| 67/67 [00:22<00:00,  2.93it/s]\n"
          ]
        },
        {
          "output_type": "stream",
          "name": "stdout",
          "text": [
            "Epoch 11, Test Loss: 14.3424\n",
            "\n",
            "--- Epoch 12/20 ---\n"
          ]
        },
        {
          "output_type": "stream",
          "name": "stderr",
          "text": [
            "Training: 100%|██████████| 10/10 [00:04<00:00,  2.38it/s]\n"
          ]
        },
        {
          "output_type": "stream",
          "name": "stdout",
          "text": [
            "Epoch 12, Training Loss: 12.3623\n"
          ]
        },
        {
          "output_type": "stream",
          "name": "stderr",
          "text": [
            "Validation: 0it [00:00, ?it/s]\n"
          ]
        },
        {
          "output_type": "stream",
          "name": "stdout",
          "text": [
            "Epoch 12, Validation Loss: 0.0000\n"
          ]
        },
        {
          "output_type": "stream",
          "name": "stderr",
          "text": [
            "Testing: 100%|██████████| 67/67 [00:22<00:00,  2.93it/s]\n"
          ]
        },
        {
          "output_type": "stream",
          "name": "stdout",
          "text": [
            "Epoch 12, Test Loss: 13.9791\n",
            "\n",
            "--- Epoch 13/20 ---\n"
          ]
        },
        {
          "output_type": "stream",
          "name": "stderr",
          "text": [
            "Training: 100%|██████████| 10/10 [00:04<00:00,  2.40it/s]\n"
          ]
        },
        {
          "output_type": "stream",
          "name": "stdout",
          "text": [
            "Epoch 13, Training Loss: 12.4014\n"
          ]
        },
        {
          "output_type": "stream",
          "name": "stderr",
          "text": [
            "Validation: 0it [00:00, ?it/s]\n"
          ]
        },
        {
          "output_type": "stream",
          "name": "stdout",
          "text": [
            "Epoch 13, Validation Loss: 0.0000\n"
          ]
        },
        {
          "output_type": "stream",
          "name": "stderr",
          "text": [
            "Testing: 100%|██████████| 67/67 [00:23<00:00,  2.89it/s]\n"
          ]
        },
        {
          "output_type": "stream",
          "name": "stdout",
          "text": [
            "Epoch 13, Test Loss: 13.9902\n",
            "\n",
            "--- Epoch 14/20 ---\n"
          ]
        },
        {
          "output_type": "stream",
          "name": "stderr",
          "text": [
            "Training: 100%|██████████| 10/10 [00:04<00:00,  2.48it/s]\n"
          ]
        },
        {
          "output_type": "stream",
          "name": "stdout",
          "text": [
            "Epoch 14, Training Loss: 12.3042\n"
          ]
        },
        {
          "output_type": "stream",
          "name": "stderr",
          "text": [
            "Validation: 0it [00:00, ?it/s]\n"
          ]
        },
        {
          "output_type": "stream",
          "name": "stdout",
          "text": [
            "Epoch 14, Validation Loss: 0.0000\n"
          ]
        },
        {
          "output_type": "stream",
          "name": "stderr",
          "text": [
            "Testing: 100%|██████████| 67/67 [00:23<00:00,  2.90it/s]\n"
          ]
        },
        {
          "output_type": "stream",
          "name": "stdout",
          "text": [
            "Epoch 14, Test Loss: 14.0830\n",
            "\n",
            "--- Epoch 15/20 ---\n"
          ]
        },
        {
          "output_type": "stream",
          "name": "stderr",
          "text": [
            "Training: 100%|██████████| 10/10 [00:04<00:00,  2.48it/s]\n"
          ]
        },
        {
          "output_type": "stream",
          "name": "stdout",
          "text": [
            "Epoch 15, Training Loss: 12.3578\n"
          ]
        },
        {
          "output_type": "stream",
          "name": "stderr",
          "text": [
            "Validation: 0it [00:00, ?it/s]\n"
          ]
        },
        {
          "output_type": "stream",
          "name": "stdout",
          "text": [
            "Epoch 15, Validation Loss: 0.0000\n"
          ]
        },
        {
          "output_type": "stream",
          "name": "stderr",
          "text": [
            "Testing: 100%|██████████| 67/67 [00:23<00:00,  2.88it/s]\n"
          ]
        },
        {
          "output_type": "stream",
          "name": "stdout",
          "text": [
            "Epoch 15, Test Loss: 14.1115\n",
            "\n",
            "--- Epoch 16/20 ---\n"
          ]
        },
        {
          "output_type": "stream",
          "name": "stderr",
          "text": [
            "Training: 100%|██████████| 10/10 [00:04<00:00,  2.47it/s]\n"
          ]
        },
        {
          "output_type": "stream",
          "name": "stdout",
          "text": [
            "Epoch 16, Training Loss: 12.3870\n"
          ]
        },
        {
          "output_type": "stream",
          "name": "stderr",
          "text": [
            "Validation: 0it [00:00, ?it/s]\n"
          ]
        },
        {
          "output_type": "stream",
          "name": "stdout",
          "text": [
            "Epoch 16, Validation Loss: 0.0000\n"
          ]
        },
        {
          "output_type": "stream",
          "name": "stderr",
          "text": [
            "Testing: 100%|██████████| 67/67 [00:23<00:00,  2.90it/s]\n"
          ]
        },
        {
          "output_type": "stream",
          "name": "stdout",
          "text": [
            "Epoch 16, Test Loss: 13.8950\n",
            "\n",
            "--- Epoch 17/20 ---\n"
          ]
        },
        {
          "output_type": "stream",
          "name": "stderr",
          "text": [
            "Training: 100%|██████████| 10/10 [00:04<00:00,  2.28it/s]\n"
          ]
        },
        {
          "output_type": "stream",
          "name": "stdout",
          "text": [
            "Epoch 17, Training Loss: 12.4418\n"
          ]
        },
        {
          "output_type": "stream",
          "name": "stderr",
          "text": [
            "Validation: 0it [00:00, ?it/s]\n"
          ]
        },
        {
          "output_type": "stream",
          "name": "stdout",
          "text": [
            "Epoch 17, Validation Loss: 0.0000\n"
          ]
        },
        {
          "output_type": "stream",
          "name": "stderr",
          "text": [
            "Testing: 100%|██████████| 67/67 [00:23<00:00,  2.91it/s]\n"
          ]
        },
        {
          "output_type": "stream",
          "name": "stdout",
          "text": [
            "Epoch 17, Test Loss: 13.7005\n",
            "\n",
            "--- Epoch 18/20 ---\n"
          ]
        },
        {
          "output_type": "stream",
          "name": "stderr",
          "text": [
            "Training: 100%|██████████| 10/10 [00:04<00:00,  2.41it/s]\n"
          ]
        },
        {
          "output_type": "stream",
          "name": "stdout",
          "text": [
            "Epoch 18, Training Loss: 12.3898\n"
          ]
        },
        {
          "output_type": "stream",
          "name": "stderr",
          "text": [
            "Validation: 0it [00:00, ?it/s]\n"
          ]
        },
        {
          "output_type": "stream",
          "name": "stdout",
          "text": [
            "Epoch 18, Validation Loss: 0.0000\n"
          ]
        },
        {
          "output_type": "stream",
          "name": "stderr",
          "text": [
            "Testing: 100%|██████████| 67/67 [00:23<00:00,  2.85it/s]\n"
          ]
        },
        {
          "output_type": "stream",
          "name": "stdout",
          "text": [
            "Epoch 18, Test Loss: 14.4069\n",
            "\n",
            "--- Epoch 19/20 ---\n"
          ]
        },
        {
          "output_type": "stream",
          "name": "stderr",
          "text": [
            "Training: 100%|██████████| 10/10 [00:04<00:00,  2.48it/s]\n"
          ]
        },
        {
          "output_type": "stream",
          "name": "stdout",
          "text": [
            "Epoch 19, Training Loss: 12.5257\n"
          ]
        },
        {
          "output_type": "stream",
          "name": "stderr",
          "text": [
            "Validation: 0it [00:00, ?it/s]\n"
          ]
        },
        {
          "output_type": "stream",
          "name": "stdout",
          "text": [
            "Epoch 19, Validation Loss: 0.0000\n"
          ]
        },
        {
          "output_type": "stream",
          "name": "stderr",
          "text": [
            "Testing: 100%|██████████| 67/67 [00:23<00:00,  2.87it/s]\n"
          ]
        },
        {
          "output_type": "stream",
          "name": "stdout",
          "text": [
            "Epoch 19, Test Loss: 14.2493\n",
            "\n",
            "--- Epoch 20/20 ---\n"
          ]
        },
        {
          "output_type": "stream",
          "name": "stderr",
          "text": [
            "Training: 100%|██████████| 10/10 [00:04<00:00,  2.45it/s]\n"
          ]
        },
        {
          "output_type": "stream",
          "name": "stdout",
          "text": [
            "Epoch 20, Training Loss: 12.4481\n"
          ]
        },
        {
          "output_type": "stream",
          "name": "stderr",
          "text": [
            "Validation: 0it [00:00, ?it/s]\n"
          ]
        },
        {
          "output_type": "stream",
          "name": "stdout",
          "text": [
            "Epoch 20, Validation Loss: 0.0000\n"
          ]
        },
        {
          "output_type": "stream",
          "name": "stderr",
          "text": [
            "Testing: 100%|██████████| 67/67 [00:23<00:00,  2.91it/s]"
          ]
        },
        {
          "output_type": "stream",
          "name": "stdout",
          "text": [
            "Epoch 20, Test Loss: 14.4072\n"
          ]
        },
        {
          "output_type": "stream",
          "name": "stderr",
          "text": [
            "\n"
          ]
        }
      ]
    },
    {
      "cell_type": "markdown",
      "source": [
        "# Plot Training, Validation, and Test Losses"
      ],
      "metadata": {
        "id": "WsnyM0ryYS2d"
      }
    },
    {
      "cell_type": "code",
      "source": [
        "# -----------------------------\n",
        "# 8. Plot Training, Validation, and Test Losses\n",
        "# -----------------------------\n",
        "plt.figure(figsize=(12, 8))\n",
        "plt.plot(range(1, num_epochs+1), train_losses, label='Training Loss', marker='o')\n",
        "plt.plot(range(1, num_epochs+1), val_losses, label='Validation Loss', marker='o')\n",
        "plt.plot(range(1, num_epochs+1), test_losses, label='Test Loss', marker='o')\n",
        "plt.xlabel('Epoch')\n",
        "plt.ylabel('Loss')\n",
        "plt.title('Training, Validation, and Test Loss over Epochs')\n",
        "plt.legend()\n",
        "plt.grid(True)\n",
        "plt.show()\n",
        "\n",
        "print(\"Training complete.\")\n"
      ],
      "metadata": {
        "colab": {
          "base_uri": "https://localhost:8080/",
          "height": 736
        },
        "id": "h9Ig-5NrWL8V",
        "outputId": "9326b16b-3d13-4515-b22f-ec4233c4f3fc"
      },
      "execution_count": 13,
      "outputs": [
        {
          "output_type": "display_data",
          "data": {
            "text/plain": [
              "<Figure size 1200x800 with 1 Axes>"
            ],
            "image/png": "[encoded data removed]"
          },
          "metadata": {}
        },
        {
          "output_type": "stream",
          "name": "stdout",
          "text": [
            "Training complete.\n"
          ]
        }
      ]
    },
    {
      "cell_type": "markdown",
      "source": [
        "# Plot Spiking Activity for a Random Image"
      ],
      "metadata": {
        "id": "GqLKCD37YV2N"
      }
    },
    {
      "cell_type": "code",
      "source": [
        "# -----------------------------\n",
        "# 9. Plot Spiking Activity for a Random Image\n",
        "# -----------------------------\n",
        "def plot_spiking_activity(model, image_folder):\n",
        "    \"\"\"\n",
        "    Passes a random image through the model and plots the spiking vector at the output.\n",
        "\n",
        "    Args:\n",
        "        model (nn.Module): Trained SNN model.\n",
        "        image_folder (str): Path to the folder containing stimuli images.\n",
        "    \"\"\"\n",
        "    # Load and preprocess a random image\n",
        "    image_tensor, image_name = load_and_preprocess_image(image_folder)\n",
        "\n",
        "    # Ensure the model is in evaluation mode\n",
        "    model.eval()\n",
        "\n",
        "    with torch.no_grad():\n",
        "        # Reset neuron states before forward pass\n",
        "        model.it.reset()\n",
        "\n",
        "        # Forward pass\n",
        "        spikes = model(image_tensor)\n",
        "\n",
        "    # Check if spikes were captured\n",
        "    if spikes is not None:\n",
        "        print(f\"Spikes captured for image '{image_name}':\")\n",
        "        print(spikes)\n",
        "    else:\n",
        "        print(\"No spikes were captured.\")\n",
        "        return\n",
        "\n",
        "    # Plot the spiking vector\n",
        "    spikes = spikes.cpu().numpy()[0]  # Assuming batch size of 1\n",
        "    plt.figure(figsize=(15, 5))\n",
        "    plt.bar(range(len(spikes)), spikes, color='blue')\n",
        "    plt.xlabel('Output Neuron Index')\n",
        "    plt.ylabel('Spike')\n",
        "    plt.title(f'Spiking Vector for Image: {image_name}')\n",
        "    plt.show()\n",
        "\n",
        "# -----------------------------\n",
        "# 10. Execute the Spiking Activity Plot\n",
        "# -----------------------------\n",
        "# Define the path to your stimuli folder\n",
        "stimuli_folder = '/content/drive/MyDrive/IT_SNN/stimuli'  # Replace with your actual path, e.g., './stimuli'\n",
        "\n",
        "# Ensure the stimuli folder exists\n",
        "if not os.path.isdir(stimuli_folder):\n",
        "    raise ValueError(f\"Stimuli folder '{stimuli_folder}' does not exist. Please provide a valid path.\")\n",
        "\n",
        "# Plot spiking activity for a random image\n",
        "plot_spiking_activity(model, stimuli_folder)\n"
      ],
      "metadata": {
        "colab": {
          "base_uri": "https://localhost:8080/",
          "height": 1000
        },
        "id": "sz0AkgffWTXC",
        "outputId": "f713c674-dd65-4ce4-ef1a-75627d9338d0"
      },
      "execution_count": 17,
      "outputs": [
        {
          "output_type": "stream",
          "name": "stdout",
          "text": [
            "Spikes captured for image '91.jpeg':\n",
            "tensor([[0., 0., 0., 0., 0., 0., 0., 0., 0., 0., 0., 0., 0., 0., 0., 0., 0., 0.,\n",
            "         0., 0., 0., 0., 0., 0., 0., 0., 0., 0., 0., 0., 0., 0., 0., 0., 0., 0.,\n",
            "         0., 0., 0., 1., 0., 0., 0., 0., 1., 0., 0., 0., 0., 0., 0., 0., 0., 0.,\n",
            "         0., 0., 0., 0., 0., 0., 0., 0., 0., 0., 0., 0., 0., 0., 0., 0., 0., 0.,\n",
            "         0., 1., 0., 0., 0., 0., 0., 0., 0., 0., 0., 0., 0., 0., 0., 0., 0., 0.,\n",
            "         0., 0., 0., 0., 0., 0., 0., 0., 0., 0., 0., 0., 0., 0., 1., 0., 0., 0.,\n",
            "         0., 0., 0., 0., 0., 0., 0., 0., 0., 0., 0., 0., 0., 0., 0., 0., 0., 0.,\n",
            "         0., 0., 0., 0., 0., 0., 0., 0., 0., 0., 0., 0., 0., 0., 0., 0., 0., 0.,\n",
            "         0., 0., 0., 0., 0., 0., 0., 0., 0., 0., 0., 0., 0., 0., 0., 0., 0., 0.,\n",
            "         0., 0., 0., 0., 1., 0., 0., 0., 0., 0., 0., 0., 0., 0., 0., 0., 0., 0.,\n",
            "         0., 0., 0., 0., 0., 0., 0., 0., 0., 0., 0., 1., 0., 0., 0., 0., 0., 0.,\n",
            "         0., 0., 0., 1., 0., 0., 0., 0., 0., 0., 0., 0., 0., 0., 0., 0., 1., 0.,\n",
            "         0., 0., 0., 0., 0., 0., 1., 0., 0., 0., 0., 0., 0., 0., 1., 0., 0., 0.,\n",
            "         0., 0., 0., 0., 0., 0., 0., 0., 0., 0., 0., 0., 0., 0., 0., 0., 0., 0.,\n",
            "         0., 0., 0., 0., 0., 0., 0., 0., 0., 0., 0., 0., 0., 1., 0., 0., 0., 0.,\n",
            "         0., 0., 0., 0., 0., 0., 0., 1., 0., 0., 0., 0., 0., 1., 0., 0., 0., 0.,\n",
            "         0., 0., 0., 1., 1., 1., 0., 0., 0., 0., 0., 0., 0., 0., 0., 1., 0., 1.,\n",
            "         0., 0., 0., 0., 0., 1., 1., 0., 0., 0., 1., 0., 0., 0., 0., 0., 1., 0.,\n",
            "         0., 1., 0., 0., 1., 0., 1., 0., 0., 1., 0., 0., 1., 0., 1., 1., 0., 0.,\n",
            "         0., 0., 0., 0., 0., 0., 0., 0., 0., 1., 0., 1., 0., 0., 0., 0., 1., 0.,\n",
            "         0., 0., 1., 1., 0., 0., 0., 1., 0., 0., 0., 0., 0., 1., 0., 0., 0., 0.,\n",
            "         0., 0., 0., 0., 1., 0., 0., 1., 0., 0., 0., 0., 1., 0., 0., 0., 0., 0.,\n",
            "         0., 0., 0., 0., 0., 0., 0., 0., 0., 0., 0., 0., 0., 0., 0., 0., 0., 0.,\n",
            "         0., 0., 0., 0., 0., 0., 0., 0., 0., 0., 0., 0., 0., 0., 0., 0., 0., 0.,\n",
            "         0., 0., 0., 0., 0., 0., 0., 0., 0., 0., 0., 0., 0., 0., 0., 0., 0., 0.,\n",
            "         0., 0., 0., 0., 0., 0., 0., 0., 0., 0., 0., 0., 0., 0., 0., 0., 0., 0.,\n",
            "         0., 0., 0., 0., 0., 0., 1., 0., 0., 0., 0., 0., 0., 0., 0., 0., 0., 0.,\n",
            "         0., 0., 0., 0., 0., 0., 0., 0., 0., 0., 0., 0., 0., 0., 0., 0., 0., 0.,\n",
            "         0., 0., 0., 0., 0., 0., 0., 0., 0., 0., 0., 0., 0., 0., 0., 0., 0., 0.,\n",
            "         0., 0., 0., 0., 0., 0., 0., 0., 0., 0., 0., 0., 0., 0., 0., 0., 0., 0.,\n",
            "         0., 0., 0., 1., 0., 0., 0., 0., 0., 0., 0., 0., 0., 0., 0., 0., 0., 0.,\n",
            "         0., 0., 0., 0., 0., 0., 0., 0., 0., 0., 0., 0., 0., 0., 0., 0., 0., 0.,\n",
            "         0., 0., 0., 0., 0., 0., 0., 0., 0., 0., 0., 0., 0., 0., 0., 0., 0., 0.,\n",
            "         0., 0., 0., 0., 0., 0., 0., 0., 1., 0., 0., 0., 0., 0., 0., 0., 0., 0.,\n",
            "         0., 0., 0., 0., 0., 0., 0., 0., 0., 0., 0., 0., 0., 0., 0., 0., 0., 0.,\n",
            "         0., 0., 0., 0., 0., 0., 0., 0., 0., 0., 0., 0., 0., 0., 0., 0., 0., 0.,\n",
            "         0., 0., 0., 0., 0., 0., 0., 0., 0., 0., 0., 0., 0., 0., 0., 0., 0., 1.,\n",
            "         0., 0., 0., 0., 0., 0., 0., 0., 0., 0., 0., 0., 0., 0., 0., 0., 0., 0.,\n",
            "         0., 0., 0., 0., 0., 0., 0., 0., 0., 0., 1., 0., 0., 0., 1., 0., 0., 0.,\n",
            "         1., 0., 0., 0., 1., 0., 0., 0., 0., 1., 0., 0., 0., 0., 0., 0., 0., 0.,\n",
            "         0., 0., 1., 0., 0., 1., 0., 0., 0., 0., 0., 1., 0., 0., 0., 1., 0., 1.,\n",
            "         0., 0., 0., 0., 0., 0., 0., 0., 0., 1., 0., 0., 0., 1., 0., 0., 0., 0.,\n",
            "         0., 0., 0., 1., 0., 0., 0., 0., 0., 1., 0., 1., 1., 0., 0., 0., 0., 0.,\n",
            "         0., 0., 0., 0., 0., 0., 0., 0., 0., 0., 1., 0., 0., 0., 0., 0., 0., 0.,\n",
            "         0., 0., 0., 0., 0., 0., 0., 1., 0., 0., 0., 0., 0., 0., 0., 1., 0., 0.,\n",
            "         0., 0., 0., 0., 1., 1., 0., 0., 0., 0., 0., 0., 0., 0., 0., 0., 0., 0.,\n",
            "         0., 0., 0., 0., 0., 0., 0., 0., 1., 0., 0., 0., 0., 0., 0., 0., 0., 0.,\n",
            "         0., 0., 1., 0., 0., 1., 0., 0., 0., 0., 0., 0., 0., 0., 0., 1., 0., 0.,\n",
            "         0., 0., 0., 0., 0., 0., 0., 0., 0., 0., 0., 0., 0., 0., 1., 0., 0., 0.,\n",
            "         0., 0., 0., 1., 0., 0., 0., 0., 0., 1., 1., 0., 1., 0., 1., 1., 0., 0.]],\n",
            "       device='cuda:0')\n"
          ]
        },
        {
          "output_type": "display_data",
          "data": {
            "text/plain": [
              "<Figure size 1500x500 with 1 Axes>"
            ],
            "image/png": "[encoded data removed]"
          },
          "metadata": {}
        }
      ]
    }
  ]
}
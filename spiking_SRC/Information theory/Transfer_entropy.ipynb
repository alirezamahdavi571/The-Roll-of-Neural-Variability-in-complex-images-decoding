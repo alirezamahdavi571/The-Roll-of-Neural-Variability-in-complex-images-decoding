{
  "nbformat": 4,
  "nbformat_minor": 0,
  "metadata": {
    "colab": {
      "provenance": []
    },
    "kernelspec": {
      "name": "python3",
      "display_name": "Python 3"
    },
    "language_info": {
      "name": "python"
    }
  },
  "cells": [
    {
      "cell_type": "markdown",
      "source": [
        "# **Transfer Entropy: Mathematical Explanation**\n",
        "\n",
        "Transfer Entropy (TE) is a non-parametric statistical measure that quantifies the directional flow of information between two stochastic processes. It is grounded in information theory and can be particularly useful in understanding causal relationships in time series data.\n",
        "\n",
        "## **Mathematical Definition**\n",
        "\n",
        "Given two stochastic processes $X$ and $Y$, the Transfer Entropy from $X$ to $Y$, denoted as $T_{X \\to Y}$, is defined as:\n",
        "\n",
        "$$\n",
        "T_{X \\to Y} = \\sum P(y_{t+1}, y_t^{(k)}, x_t^{(l)}) \\log \\frac{P(y_{t+1} \\mid y_t^{(k)}, x_t^{(l)})}{P(y_{t+1} \\mid y_t^{(k)})}\n",
        "$$\n",
        "\n",
        "Here:\n",
        "- $y_{t+1}$: The state of process $Y$ at time $t+1$.\n",
        "- $y_t^{(k)} = (y_t, y_{t-1}, \\dots, y_{t-k+1})$: The past $k$ states of $Y$ (history of $Y$).\n",
        "- $x_t^{(l)} = (x_t, x_{t-1}, \\dots, x_{t-l+1})$: The past $l$ states of $X$ (history of $X$).\n",
        "- $P(y_{t+1}, y_t^{(k)}, x_t^{(l)})$: The joint probability distribution of $y_{t+1}$, $y_t^{(k)}$, and $x_t^{(l)}$.\n",
        "- $P(y_{t+1} \\mid y_t^{(k)}, x_t^{(l)})$: The conditional probability of $y_{t+1}$ given $y_t^{(k)}$ and $x_t^{(l)}$.\n",
        "\n",
        "## **Interpretation**\n",
        "1. $T_{X \\to Y}$ measures the reduction in uncertainty of $Y$'s future ($y_{t+1}$) by incorporating the history of $X$ ($x_t^{(l)}$), beyond what is already explained by the history of $Y$ itself ($y_t^{(k)}$).\n",
        "2. A high $T_{X \\to Y}$ value implies that $X$ has a strong influence on $Y$.\n",
        "\n",
        "## **Key Features**\n",
        "- **Directional**: Unlike correlation, TE quantifies the direction of information flow ($X \\to Y$) and is not symmetric ($T_{X \\to Y} \\neq T_{Y \\to X}$).\n",
        "- **History Dependence**: By incorporating $k$- and $l$-length histories, TE captures lagged dependencies.\n",
        "- **Non-linear Relationships**: TE can capture non-linear interactions between $X$ and $Y$.\n",
        "\n",
        "## **Practical Applications**\n",
        "- **Neuroscience**: Identifying causal interactions between brain regions.\n",
        "- **Finance**: Understanding dependencies between market variables.\n",
        "- **Engineering**: Analyzing complex systems such as power grids or ecological networks.\n",
        "\n",
        "## **Simplified Example**\n",
        "Assume two time series $X = \\{x_1, x_2, ..., x_t\\}$ and $Y = \\{y_1, y_2, ..., y_t\\}$. If the dynamics of $Y$ depend on both its own past and the past of $X$, TE helps determine how much of $Y$'s future behavior is influenced by $X$'s past.\n"
      ],
      "metadata": {
        "id": "gp5O45ZsQkWg"
      }
    },
    {
      "cell_type": "code",
      "source": [
        "!pip install copent"
      ],
      "metadata": {
        "colab": {
          "base_uri": "https://localhost:8080/"
        },
        "id": "I-IOL8DHBOOL",
        "outputId": "6534978b-b442-4f08-96e1-e34ec19e4b08"
      },
      "execution_count": 1,
      "outputs": [
        {
          "output_type": "stream",
          "name": "stdout",
          "text": [
            "Collecting copent\n",
            "  Downloading copent-0.5.7-py3-none-any.whl.metadata (6.2 kB)\n",
            "Requirement already satisfied: numpy in /usr/local/lib/python3.10/dist-packages (from copent) (1.26.4)\n",
            "Requirement already satisfied: scipy in /usr/local/lib/python3.10/dist-packages (from copent) (1.13.1)\n",
            "Downloading copent-0.5.7-py3-none-any.whl (18 kB)\n",
            "Installing collected packages: copent\n",
            "Successfully installed copent-0.5.7\n"
          ]
        }
      ]
    },
    {
      "cell_type": "markdown",
      "source": [
        "# mount my drive"
      ],
      "metadata": {
        "id": "BOwPXXUk7Y1c"
      }
    },
    {
      "cell_type": "code",
      "source": [
        "from google.colab import drive\n",
        "drive.mount('/content/drive')"
      ],
      "metadata": {
        "colab": {
          "base_uri": "https://localhost:8080/"
        },
        "id": "ElDolewO7cXQ",
        "outputId": "a4f8f345-85f3-4050-a1ce-a66d9dd4dff1"
      },
      "execution_count": 2,
      "outputs": [
        {
          "output_type": "stream",
          "name": "stdout",
          "text": [
            "Mounted at /content/drive\n"
          ]
        }
      ]
    },
    {
      "cell_type": "markdown",
      "source": [
        "# Libries"
      ],
      "metadata": {
        "id": "r8xVdE7c7V5L"
      }
    },
    {
      "cell_type": "code",
      "execution_count": 3,
      "metadata": {
        "id": "SjdqtRyJ6SuA"
      },
      "outputs": [],
      "source": [
        "import numpy as np\n",
        "from scipy import stats\n",
        "from scipy import ndimage\n",
        "\n",
        "import matplotlib.pyplot as plt\n",
        "import h5py\n",
        "import seaborn as sns\n",
        "from scipy import stats\n",
        "import scipy.io as sio\n",
        "\n",
        "from copent import transent\n",
        "from pandas import read_csv\n",
        "import numpy as np\n",
        "import matplotlib.pyplot as plt"
      ]
    },
    {
      "cell_type": "markdown",
      "source": [
        "# Functions"
      ],
      "metadata": {
        "id": "kuN5QQzF7tzK"
      }
    },
    {
      "cell_type": "code",
      "source": [
        "def load_files(path , dataName):\n",
        "    with h5py.File(path, 'r') as data:\n",
        "        data_vec = data[dataName]\n",
        "        # Get the shape of the data\n",
        "        shape = data_vec.shape\n",
        "        data_vec = np.array(data_vec)\n",
        "        print(f\"The shape is: {shape}\")\n",
        "        return data_vec\n"
      ],
      "metadata": {
        "id": "vyE_w-LJ7vcg"
      },
      "execution_count": 4,
      "outputs": []
    },
    {
      "cell_type": "markdown",
      "source": [
        "# Load data"
      ],
      "metadata": {
        "id": "0J6pXSHM73aE"
      }
    },
    {
      "cell_type": "code",
      "source": [
        "var_it = load_files('/content/drive/MyDrive/Var_firingRate/var_ITC.mat' , 'var_vec')\n",
        "var_it = var_it.T\n",
        "\n",
        "var_pfc = load_files('/content/drive/MyDrive/Var_firingRate/var_PFC.mat' , 'var_vec')\n",
        "var_pfc = var_pfc.T"
      ],
      "metadata": {
        "colab": {
          "base_uri": "https://localhost:8080/"
        },
        "id": "o8ZNZmj-74wf",
        "outputId": "1aa7b148-989f-41ab-b1f0-cd3fd6dd75ca"
      },
      "execution_count": 6,
      "outputs": [
        {
          "output_type": "stream",
          "name": "stdout",
          "text": [
            "The shape is: (86, 144, 858)\n",
            "The shape is: (86, 144, 858)\n"
          ]
        }
      ]
    },
    {
      "cell_type": "markdown",
      "source": [
        "# code of Transfer entropy"
      ],
      "metadata": {
        "id": "4dFPp54G7CUw"
      }
    },
    {
      "cell_type": "code",
      "source": [
        "TE_values_it_pfc = np.zeros((25,var_it.shape[0], var_it.shape[1]))\n",
        "for delay in range(1,25):\n",
        "  for i in range(2,var_it.shape[0]):\n",
        "    for j in range(2,var_it.shape[1]):\n",
        "        var_it_slice = var_it[i, j, :]\n",
        "        var_pfc_slice = var_pfc[i, j, :]\n",
        "        TE_values_it_pfc[delay,i, j] = transent(var_it_slice, var_pfc_slice, lag=delay)\n",
        "\n",
        "\n",
        "# # Save as a .mat file\n"
      ],
      "metadata": {
        "id": "kbl63q6G7BYl"
      },
      "execution_count": 13,
      "outputs": []
    },
    {
      "cell_type": "code",
      "source": [
        "output_filename = \"/content/drive/MyDrive/LFP/TE_values_it_pfc.mat\"\n",
        "sio.savemat(output_filename, {\"TE_values_it_pfc\": TE_values_it_pfc})\n",
        "\n",
        "print(f\"TE values saved to {output_filename}\")"
      ],
      "metadata": {
        "colab": {
          "base_uri": "https://localhost:8080/"
        },
        "id": "kLREDXWsCF9K",
        "outputId": "5bc0c2c7-1a5d-47ef-b98a-47c513bbda53"
      },
      "execution_count": 14,
      "outputs": [
        {
          "output_type": "stream",
          "name": "stdout",
          "text": [
            "TE values saved to /content/drive/MyDrive/LFP/TE_values_it_pfc.mat\n"
          ]
        }
      ]
    },
    {
      "cell_type": "markdown",
      "source": [
        "# PFC -> ITC"
      ],
      "metadata": {
        "id": "pRugmw3J9bxg"
      }
    },
    {
      "cell_type": "code",
      "source": [
        "TE_values_pfc_it = np.zeros((25,var_it.shape[0], var_it.shape[1]))\n",
        "for delay in range(1,25):\n",
        "  for i in range(2,var_it.shape[0]):\n",
        "    for j in range(2,var_it.shape[1]):\n",
        "        var_it_slice = var_it[i, j, :]\n",
        "        var_pfc_slice = var_pfc[i, j, :]\n",
        "        TE_values_pfc_it[delay,i, j] = transent(var_pfc_slice, var_it_slice, lag=delay)\n",
        "\n",
        "\n",
        "# Save as a .mat file\n",
        "output_filename = \"/content/drive/MyDrive/LFP/TE_values_pfc_it.mat\"\n",
        "sio.savemat(output_filename, {\"TE_values_pfc_it\": TE_values_pfc_it})\n",
        "\n",
        "print(f\"TE values saved to {output_filename}\")"
      ],
      "metadata": {
        "colab": {
          "base_uri": "https://localhost:8080/"
        },
        "id": "ZL5T3zHZ9bPi",
        "outputId": "9f9c0040-83cd-48ae-d556-c7ed1ceb7fac"
      },
      "execution_count": 17,
      "outputs": [
        {
          "output_type": "stream",
          "name": "stdout",
          "text": [
            "TE values saved to /content/drive/MyDrive/LFP/TE_values_pfc_it.mat\n"
          ]
        }
      ]
    },
    {
      "cell_type": "markdown",
      "source": [
        "# Stattistical Tests"
      ],
      "metadata": {
        "id": "x-FwOyjX9n2J"
      }
    },
    {
      "cell_type": "code",
      "source": [
        "from scipy.io import loadmat\n",
        "\n",
        "def load_files(path, dataName):\n",
        "    data = loadmat(path)  # Load .mat file\n",
        "    if dataName in data:\n",
        "        data_vec = data[dataName]\n",
        "        print(f\"The shape is: {data_vec.shape}\")\n",
        "        return data_vec\n",
        "    else:\n",
        "        raise KeyError(f\"'{dataName}' not found in the .mat file.\")\n",
        "\n"
      ],
      "metadata": {
        "colab": {
          "base_uri": "https://localhost:8080/"
        },
        "id": "_y0JqLULAVzv",
        "outputId": "232093b4-2132-47cd-8400-0adb267c3da0"
      },
      "execution_count": 10,
      "outputs": [
        {
          "output_type": "stream",
          "name": "stdout",
          "text": [
            "The shape is: (25, 858, 144)\n"
          ]
        }
      ]
    },
    {
      "cell_type": "code",
      "source": [
        "TE_values_it_pfc = load_files('/content/drive/MyDrive/LFP/TE_values_it_pfc.mat' , 'TE_values_it_pfc')\n",
        "# TE_values_it_pfc = TE_values_it_pfc.T\n",
        "\n",
        "TE_values_pfc_it = load_files('/content/drive/MyDrive/LFP/TE_values_pfc_it.mat' , 'TE_values_pfc_it')\n",
        "# TE_values_pfc_it = TE_values_pfc_it.T"
      ],
      "metadata": {
        "colab": {
          "base_uri": "https://localhost:8080/"
        },
        "id": "ffeBGkUl9qfp",
        "outputId": "b9da375e-623d-476e-8874-49d0fbcce9b0"
      },
      "execution_count": 11,
      "outputs": [
        {
          "output_type": "stream",
          "name": "stdout",
          "text": [
            "The shape is: (25, 858, 144)\n",
            "The shape is: (25, 858, 144)\n"
          ]
        }
      ]
    },
    {
      "cell_type": "code",
      "source": [
        "import numpy as np\n",
        "import scipy.stats as stats\n",
        "import matplotlib.pyplot as plt\n",
        "\n",
        "# Simulate example data (replace this with your actual data)\n",
        "np.random.seed(42)\n",
        "matrix1 = TE_values_it_pfc\n",
        "matrix2 = TE_values_pfc_it\n",
        "\n",
        "# Calculate mean and standard error across neurons and stimuli\n",
        "means1 = matrix1.mean(axis=(1, 2))  # Mean across neurons and stimuli for matrix1\n",
        "means2 = matrix2.mean(axis=(1, 2))  # Mean across neurons and stimuli for matrix2\n",
        "std_err1 = matrix1.std(axis=(1, 2), ddof=1) / np.sqrt(matrix1.shape[1] * matrix1.shape[2])  # SE for matrix1\n",
        "std_err2 = matrix2.std(axis=(1, 2), ddof=1) / np.sqrt(matrix2.shape[1] * matrix2.shape[2])  # SE for matrix2\n",
        "\n",
        "# Perform Wilcoxon test for each delay\n",
        "p_values = []\n",
        "effect_sizes = []\n",
        "for delay in range(matrix1.shape[0]):\n",
        "    data1 = matrix1[delay].flatten()\n",
        "    data2 = matrix2[delay].flatten()\n",
        "    differences = data1 - data2\n",
        "\n",
        "    # Check if all differences are zero\n",
        "    if np.all(differences == 0):\n",
        "        p_values.append(1.0)  # No difference\n",
        "        effect_sizes.append(0.0)\n",
        "    else:\n",
        "        _, p_val = stats.wilcoxon(data1, data2, alternative='two-sided', zero_method='pratt')\n",
        "        effect_size = np.abs(data1.mean() - data2.mean()) / np.std(np.concatenate((data1, data2)))\n",
        "        p_values.append(p_val)\n",
        "        effect_sizes.append(effect_size)\n",
        "\n",
        "# Plot results\n",
        "delays = np.arange(1, 26)  # Delays (1 to 25)\n",
        "plt.figure(figsize=(12, 7))\n",
        "\n",
        "# Plot mean and error bars for Matrix 1\n",
        "plt.errorbar(delays, means1, yerr=std_err1, label='TE ITC->PFC', fmt='-o', capsize=5)\n",
        "\n",
        "# Plot mean and error bars for Matrix 2\n",
        "plt.errorbar(delays, means2, yerr=std_err2, label='TE PFC->ITC', fmt='-s', capsize=5)\n",
        "\n",
        "# Add a horizontal line at zero\n",
        "plt.axhline(y=0, color='gray', linestyle='--', linewidth=0.8)\n",
        "\n",
        "# Annotate significant p-values at zero\n",
        "for i, (p, es) in enumerate(zip(p_values, effect_sizes)):\n",
        "    if p < 0.05:\n",
        "        plt.text(delays[i], 0, '*', ha='center', color='red', fontsize=20)\n",
        "\n",
        "# Add labels, title, and legend\n",
        "plt.title('Comparison of Transfer Entropy Results with Significance and Effect Sizes')\n",
        "plt.xlabel('Delays')\n",
        "plt.ylabel('Mean Transfer Entropy')\n",
        "plt.legend()\n",
        "plt.grid(True)\n",
        "\n",
        "# Show plot\n",
        "plt.show()\n"
      ],
      "metadata": {
        "colab": {
          "base_uri": "https://localhost:8080/",
          "height": 578
        },
        "id": "jE-FwwER_A6f",
        "outputId": "4ea15926-0d61-4e94-a41c-aaa589409cbf"
      },
      "execution_count": 25,
      "outputs": [
        {
          "output_type": "display_data",
          "data": {
            "text/plain": [
              "<Figure size 1200x700 with 1 Axes>"
            ],
            "image/png": "[encoded data removed]"
          },
          "metadata": {}
        }
      ]
    }
  ]
}